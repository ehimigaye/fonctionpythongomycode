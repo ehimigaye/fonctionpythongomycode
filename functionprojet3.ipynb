{
 "cells": [
  {
   "cell_type": "code",
   "execution_count": 7,
   "id": "34616a0f",
   "metadata": {},
   "outputs": [
    {
     "name": "stdout",
     "output_type": "stream",
     "text": [
      "1755\n",
      "422556\n",
      "88554\n",
      "('le maximum est:', 422556)\n"
     ]
    }
   ],
   "source": [
    "#question 1:\n",
    "# definir la fonction :\n",
    "def maximum(a ,b,c):\n",
    "    t = [a,b,c] # prendre en compte la liste à trier\n",
    "    ma = max(t)\n",
    "    return (\"le maximum est:\", ma)\n",
    "# incrementer le maximum de la list et la fin de la fonction\n",
    "# incrementons la saisie des trois nombres à trier \n",
    "a = int(input())\n",
    "b = int(input())\n",
    "c = int(input())\n",
    "#executons la fonction en montrant le resultat pour verifier\n",
    "print(maximum(a,b,c))\n"
   ]
  },
  {
   "cell_type": "code",
   "execution_count": 1,
   "id": "f1a6d972",
   "metadata": {},
   "outputs": [
    {
     "name": "stdout",
     "output_type": "stream",
     "text": [
      "40\n",
      "10\n"
     ]
    },
    {
     "data": {
      "text/plain": [
       "('le total de la somme :', 50, 'le total de la soustraction :', 30)"
      ]
     },
     "execution_count": 1,
     "metadata": {},
     "output_type": "execute_result"
    }
   ],
   "source": [
    "#question 2 :\n",
    "# definissons la fonction calcul \n",
    "def calcul(c,d):\n",
    "    total = c+d # pour la somme\n",
    "    soustraction = c-d # pour la soustraction\n",
    "    resultat = (\"le total de la somme :\", total, \"le total de la soustraction :\", soustraction) # pour sortir la somme et la soustraction en 1 output\n",
    "    return (resultat)\n",
    "#incrementer les deux nombres\n",
    "c = int(input())\n",
    "d = int(input())\n",
    "#appeler fonction et donner les resultats\n",
    "calcul(c,d)\n",
    "\n",
    "    "
   ]
  },
  {
   "cell_type": "code",
   "execution_count": 2,
   "id": "7c94ea4e",
   "metadata": {},
   "outputs": [
    {
     "name": "stdout",
     "output_type": "stream",
     "text": [
      "4\n",
      "15\n",
      "45\n",
      "69\n",
      "800\n",
      "[15, 45, 69, 800]\n",
      "multiplication nombres impairs: 1035\n",
      " somme des nombre pairs;  845\n",
      "('multiplication nombres impairs:', 1035, ' somme des nombre pairs; ', 845)\n"
     ]
    }
   ],
   "source": [
    "#Question 3:\n",
    "# definition la fonction calcul avec comme argument la list:\n",
    "\n",
    "def calculs(listin):\n",
    "#commencons par mettre les prealables pour les calculs:\n",
    "    rang =1\n",
    "    ajout = 0\n",
    "    multip = 1 \n",
    "    # la boucle en charde des calculs de la taille de la longueur de  la list\n",
    "    for j in range (len(listin)):\n",
    "        #determination des rangs d' indexation de la liste \n",
    "        rang =j+1\n",
    "        #determination des nombres pairs et de la sommation dans ce cas la \n",
    "        rang1 = rang%2\n",
    "        if rang1 == 0 :\n",
    "            ajout = listin[j]+ajout\n",
    "        #determination des impairs et de la marche à suivre les concernants(multiplications)\n",
    "        else :\n",
    "            multip = multip *listin[j]\n",
    "    print (\"multiplication nombres impairs:\", multip)\n",
    "    print (\" somme des nombre pairs; \" , ajout)\n",
    "    #résultats à la sortie\n",
    "    return \"multiplication nombres impairs:\", multip,\" somme des nombre pairs; \" , ajout\n",
    "#creation de la liste qui sera utilisée comme argument de la fonction    \n",
    "listin = []\n",
    "#determinons sa taille \n",
    "p = int(input())\n",
    "#integrons chaque element de la liste\n",
    "for i in range  (p):\n",
    "    inp = int(input())\n",
    "    listin.append(inp)\n",
    "#verifions la liste \n",
    "print(listin)\n",
    "#appelons la fonction avec comme argument la liste \n",
    "print(calculs(listin))\n",
    "\n"
   ]
  },
  {
   "cell_type": "code",
   "execution_count": 3,
   "id": "f6f0f04e",
   "metadata": {},
   "outputs": [
    {
     "name": "stdout",
     "output_type": "stream",
     "text": [
      "4\n",
      "mm\n",
      "15\n",
      "14\n",
      "ff\n",
      "11f\n",
      "55d\n",
      "44f\n",
      "55f\n",
      "['mm', '14', '11f', '44f']\n",
      "['15', 'ff', '55d', '55f']\n",
      "{'mm': '15', '14': 'ff', '11f': '55d', '44f': '55f'}\n",
      "['mm', '14', '11f', '44f']\n",
      "<class 'str'>\n"
     ]
    },
    {
     "data": {
      "text/plain": [
       "'M'"
      ]
     },
     "execution_count": 3,
     "metadata": {},
     "output_type": "execute_result"
    }
   ],
   "source": [
    "#Question 4:\n",
    "#definissons la fonction majuscule\n",
    "def majuscule(dico):\n",
    " #transformons le dictionnaire en liste    \n",
    "    mes = list(dico)\n",
    "    #verifions la transformation en liste\n",
    "    print(mes)\n",
    "    #le premier element de la liste correspondant à la valeur du dictionnaire de depart\n",
    "    x = mes[0] \n",
    "    #verifions la valeur est la bonne\n",
    "    print(type(x))\n",
    "    #premier caractere de la valeur\n",
    "    x1 = (x[0])    \n",
    "    #transformons la en majuscule\n",
    "    maj = x1.upper() \n",
    "    #Retournons la lettre en majuscule \n",
    "    return maj\n",
    "\n",
    "#Apres la fonction penchons nous sur le cas de la creation du dictionnaire vu l' impossibilité nous optons pour creer deux liste de meme longueur et ensuite de les fusionner en un dictionaire\n",
    "CLE = []# creation de la liste des clé du futur dictionnaire\n",
    "VALEUR=[]# creation de la liste des valeurs à lier au clé dans l' ordre \n",
    "o = int(input())# nombre d' elements du dictionnaire\n",
    "for j in range (o):#creons la boucle qui associe les valeurs et les clé\n",
    "    cle = input()\n",
    "    valeur = input()\n",
    "    CLE.append(cle)\n",
    "    VALEUR.append(valeur)\n",
    "    \n",
    "print(CLE)# verifions les list des clés\n",
    "print(VALEUR)#veridions les list des clés\n",
    "dico = dict(zip(CLE, VALEUR))  #creons la fusion des deux list en un dictionnaire\n",
    "print(dico)#verifions le resultat\n",
    "majuscule(dico)#appelons la fonction de majuscule\n",
    "\n"
   ]
  },
  {
   "cell_type": "code",
   "execution_count": 4,
   "id": "939562b7",
   "metadata": {},
   "outputs": [
    {
     "name": "stdout",
     "output_type": "stream",
     "text": [
      "3\n",
      "mmmmmmmm\n",
      "ddddddddffefre\n",
      "ddddddd\n",
      "555555555\n",
      "eeeeeeeeee\n",
      "fffffffffffffffffffffff\n",
      "['mmmmmmmm', 'ddddddd', 'eeeeeeeeee']\n",
      "['ddddddddffefre', '555555555', 'fffffffffffffffffffffff']\n",
      "{'mmmmmmmm': 'ddddddddffefre', 'ddddddd': '555555555', 'eeeeeeeeee': 'fffffffffffffffffffffff'}\n",
      "fffffffffffffffffffffff\n"
     ]
    }
   ],
   "source": [
    "#Question 5:\n",
    "#Definissons la fonction qui nous renverra à la valeur ou la clé la plus longue\n",
    "def motmax(dico1) :\n",
    "    mot =\"\"# creons la base qui nous permettra le tri des valeurs\n",
    "    mot2 = \"\"#creons la clé qui nous permettra le tri des clés\n",
    "    \n",
    "    for x in dico1.values():#creons une bloucle qui concernera les valeurs du dictionnaire\n",
    "        if (len(mot)<len(x)):# creons la comparaison entre la valeur et la valeur precedente\n",
    "            mot = x#valeur avec longueur la plus longue\n",
    "    for y in dico1.keys():#creons une boucle qui concernera les cles\n",
    "    \n",
    "        if (len(mot2)<len(y)):#creons la comparaison entre la cle et la cle precedente\n",
    "            mot2 = y#cle avec la valeur la plus longue\n",
    "    if (len(mot)<len(mot2)):#comparons la valeur la plus longue et la clé la plus longue et demandons de la sortie la plus grande entre les deux\n",
    "        print(mot2)\n",
    "    else:\n",
    "        print(mot)\n",
    "        \n",
    "    \n",
    "CLES = []# creation de la liste des clé du futur dictionnaire\n",
    "VALEURS=[]# creation de la liste des valeurs à lier au clé dans l' ordre \n",
    "oo = int(input())# nombre d' elements du dictionnaire\n",
    "for j in range (oo):#creons la boucle qui associe les valeurs et les clé\n",
    "    cles = input()\n",
    "    valeurs = input()\n",
    "    CLES.append(cles)\n",
    "    VALEURS.append(valeurs)\n",
    "    \n",
    "print(CLES)# verifions les list des clés\n",
    "print(VALEURS)#veridions les list des clés\n",
    "dico1 = dict(zip(CLES, VALEURS))  #creons la fusion des deux list en un dictionnaire\n",
    "print(dico1)#verifions le resultat\n",
    "motmax(dico1)#appelons la fonction de majuscule\n",
    "\n",
    "    \n",
    "\n",
    "    "
   ]
  },
  {
   "cell_type": "code",
   "execution_count": 2,
   "id": "91d3b9cf",
   "metadata": {},
   "outputs": [
    {
     "name": "stdout",
     "output_type": "stream",
     "text": [
      "red yellow black white\n"
     ]
    },
    {
     "data": {
      "text/plain": [
       "'black-red-white-yellow'"
      ]
     },
     "execution_count": 2,
     "metadata": {},
     "output_type": "execute_result"
    }
   ],
   "source": [
    "# Question 6 :\n",
    "#Créons la fonction de tri et retour de tri\n",
    "def trialphabetique(S):\n",
    "    g = S.split(\"-\")# creons une liste a partir la chaine de caractere de depart et sans \"-\"\n",
    "    g.sort() # tri alphabétique\n",
    "    g= '-'.join(str(elem) for elem in g) # transformation en chaine de caractere avec une separation des élémznts par \"-\"\n",
    "    return g #resultat\n",
    "#Creons la chaine de caractere à diviser par le caractere -\n",
    "s = input() # incrementer la chaine de caractere\n",
    "S = s.split() #transformer la chaine de caracter en liste\n",
    "S= '-'.join(str(elem) for elem in S)# transformer la liste en chaine de caractere diviser par -\n",
    "trialphabetique(S)#Appelons la fonction"
   ]
  },
  {
   "cell_type": "code",
   "execution_count": 1,
   "id": "71e7ab88",
   "metadata": {},
   "outputs": [
    {
     "name": "stdout",
     "output_type": "stream",
     "text": [
      "100,150,180\n",
      "18,22,24\n"
     ]
    }
   ],
   "source": [
    "#Question 7:\n",
    "def calcul(entree): #Définissons la fonction a utilisée pour le calcul\n",
    "    C = 50 #implémentons les constantes\n",
    "    H = 30  \n",
    "    res = entree.replace(\",\",\" \") #remplacons les virgules de la chaine de caractere par des espaces\n",
    "    entree = res.split() #transformons la nouvelle chaine de caractere par une liste avec comme elements les divisons de la chaine de caractere par les espaces\n",
    "    mm =[]#creeons une liste vide pour la future sortie des resultats des calculs\n",
    "    pp = len(entree) # la longueur de la liste trouvree pour la boucle for\n",
    "    for i in range (pp): #la boucle for\n",
    "        D = int(entree[i])#transformons les elements de la liste en entiers naturel pour les calculs\n",
    "        \n",
    "        Q = ((2*C*D)/H)**(0.5)#la formule de calcul\n",
    "        Q = round(Q)#arrondissons le resultat au nombre le plus proche\n",
    "        mm.append(Q)#remplissons la liste vide avec les resultats\n",
    "    print(','.join(str(e) for e in mm)) #ecrivons les resultats en une chaine de caractere qui separe chaque résultat par une virgule a partir de la liste de résultat\n",
    "    return#quitter la fonction\n",
    "entree = input()#entrons la chaine de caractere\n",
    "calcul( entree)#appelons la fonction avec comme argument entrée\n"
   ]
  },
  {
   "cell_type": "code",
   "execution_count": null,
   "id": "6632d948",
   "metadata": {},
   "outputs": [],
   "source": []
  },
  {
   "cell_type": "code",
   "execution_count": null,
   "id": "82f89cd4",
   "metadata": {},
   "outputs": [],
   "source": []
  }
 ],
 "metadata": {
  "kernelspec": {
   "display_name": "Python 3 (ipykernel)",
   "language": "python",
   "name": "python3"
  },
  "language_info": {
   "codemirror_mode": {
    "name": "ipython",
    "version": 3
   },
   "file_extension": ".py",
   "mimetype": "text/x-python",
   "name": "python",
   "nbconvert_exporter": "python",
   "pygments_lexer": "ipython3",
   "version": "3.9.13"
  }
 },
 "nbformat": 4,
 "nbformat_minor": 5
}
